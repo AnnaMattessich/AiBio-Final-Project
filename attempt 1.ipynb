{
 "cells": [
  {
   "cell_type": "markdown",
   "id": "f2a45bfd-da53-476b-b545-8d912af16b4e",
   "metadata": {},
   "source": [
    "# AI in Biology Final Project \n",
    "### Anna Mattessich and Keerthi Mula\n",
    "\n",
    "## Load Libraries "
   ]
  },
  {
   "cell_type": "code",
   "execution_count": 1,
   "id": "3a6bced8-c956-4c45-8002-faa1fe1e1566",
   "metadata": {
    "tags": []
   },
   "outputs": [],
   "source": [
    "import os\n",
    "import tensorflow as tf\n",
    "from tensorflow.keras.applications import DenseNet121\n",
    "from tensorflow.keras.layers import Dense, GlobalAveragePooling2D\n",
    "from tensorflow.keras.models import Model, Sequential\n",
    "from tensorflow.keras.optimizers import Adam\n",
    "from tensorflow.keras.losses import CategoricalCrossentropy\n",
    "from tensorflow.keras.callbacks import Callback"
   ]
  },
  {
   "cell_type": "markdown",
   "id": "86426bfd-80c4-4331-8042-287335504766",
   "metadata": {},
   "source": [
    "## Import Data \n",
    "Data from https://archive.ics.uci.edu/ (UC Irvine Machine Learning Repository)\n",
    "\n",
    "Data about"
   ]
  },
  {
   "cell_type": "code",
   "execution_count": 3,
   "id": "97228432-45c1-415f-b2aa-f44b37d50629",
   "metadata": {
    "tags": []
   },
   "outputs": [],
   "source": [
    "## add dataset\n",
    "## initial table of data"
   ]
  },
  {
   "cell_type": "markdown",
   "id": "d7a036c1-2213-46d9-8e1a-295e941bc016",
   "metadata": {},
   "source": [
    "## Introduction\n",
    "We are trying to answer the question: \n",
    "\n",
    "To answer this question we are "
   ]
  },
  {
   "cell_type": "code",
   "execution_count": null,
   "id": "54b4f49f-76e6-441f-aa79-a4d8b0109719",
   "metadata": {},
   "outputs": [],
   "source": []
  },
  {
   "cell_type": "markdown",
   "id": "0320d835-b452-479e-84db-2d1f1dc80e10",
   "metadata": {},
   "source": [
    "## Data pre-processing\n",
    "What's needed to load the data, clean the data, normalize, etc."
   ]
  },
  {
   "cell_type": "code",
   "execution_count": null,
   "id": "0d9f3442-213a-4db5-9d69-70e20e04c002",
   "metadata": {},
   "outputs": [],
   "source": []
  },
  {
   "cell_type": "markdown",
   "id": "41c05b68-1d07-4e07-bfec-2a24bdb83f75",
   "metadata": {},
   "source": [
    "## Model setup\n",
    "Setup one or more models"
   ]
  },
  {
   "cell_type": "code",
   "execution_count": null,
   "id": "2d515e41-a84c-4141-abab-dc49fe478213",
   "metadata": {},
   "outputs": [],
   "source": []
  },
  {
   "cell_type": "markdown",
   "id": "019c70cb-69af-4fcc-9fa0-38c4380c8654",
   "metadata": {},
   "source": [
    "## Hyperparameter tuning\n",
    "Do some playing with the model hyperparameters (learning rate, optimizer, batch size, epochs, whatever makes sense)"
   ]
  },
  {
   "cell_type": "code",
   "execution_count": null,
   "id": "427581f6-27eb-469d-87c1-eed389399a29",
   "metadata": {},
   "outputs": [],
   "source": []
  },
  {
   "cell_type": "markdown",
   "id": "45381df1-5759-4c57-bd8f-31f8abde19b4",
   "metadata": {},
   "source": [
    "## Results\n",
    "How did the model do"
   ]
  },
  {
   "cell_type": "markdown",
   "id": "4e8849cf-bde9-4376-b5f2-94b85f9f3d4e",
   "metadata": {},
   "source": [
    "## Discussion\n",
    "Summarize what worked, what didn't etc."
   ]
  }
 ],
 "metadata": {
  "kernelspec": {
   "display_name": "Tensorflow-2.6.0",
   "language": "python",
   "name": "tensorflow-2.6.0"
  },
  "language_info": {
   "codemirror_mode": {
    "name": "ipython",
    "version": 3
   },
   "file_extension": ".py",
   "mimetype": "text/x-python",
   "name": "python",
   "nbconvert_exporter": "python",
   "pygments_lexer": "ipython3",
   "version": "3.9.7"
  }
 },
 "nbformat": 4,
 "nbformat_minor": 5
}
