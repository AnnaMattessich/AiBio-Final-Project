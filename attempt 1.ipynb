{
 "cells": [
  {
   "cell_type": "markdown",
   "id": "f2a45bfd-da53-476b-b545-8d912af16b4e",
   "metadata": {},
   "source": [
    "# AI in Biology Final Project \n",
    "### Anna Mattessich and Keerthi Mula\n",
    "\n",
    "## Load Libraries "
   ]
  },
  {
   "cell_type": "code",
   "execution_count": 1,
   "id": "3a6bced8-c956-4c45-8002-faa1fe1e1566",
   "metadata": {
    "tags": []
   },
   "outputs": [],
   "source": [
    "import os\n",
    "import tensorflow as tf\n",
    "from tensorflow.keras.applications import DenseNet121\n",
    "from tensorflow.keras.layers import Dense, GlobalAveragePooling2D\n",
    "from tensorflow.keras.models import Model, Sequential\n",
    "from tensorflow.keras.optimizers import Adam\n",
    "from tensorflow.keras.losses import CategoricalCrossentropy\n",
    "from tensorflow.keras.callbacks import Callback"
   ]
  },
  {
   "cell_type": "markdown",
   "id": "86426bfd-80c4-4331-8042-287335504766",
   "metadata": {},
   "source": [
    "## Import Data \n",
    "Data from https://archive.ics.uci.edu/ (UC Irvine Machine Learning Repository)\n",
    "\n",
    "Data about"
   ]
  },
  {
   "cell_type": "code",
   "execution_count": 3,
   "id": "97228432-45c1-415f-b2aa-f44b37d50629",
   "metadata": {
    "tags": []
   },
   "outputs": [],
   "source": [
    "## add dataset\n",
    "## initial table of data"
   ]
  },
  {
   "cell_type": "code",
   "execution_count": null,
   "id": "e1d329b4-9c4b-4b34-90ef-0307ce1dd6d8",
   "metadata": {},
   "outputs": [],
   "source": []
  }
 ],
 "metadata": {
  "kernelspec": {
   "display_name": "Tensorflow-2.6.0",
   "language": "python",
   "name": "tensorflow-2.6.0"
  },
  "language_info": {
   "codemirror_mode": {
    "name": "ipython",
    "version": 3
   },
   "file_extension": ".py",
   "mimetype": "text/x-python",
   "name": "python",
   "nbconvert_exporter": "python",
   "pygments_lexer": "ipython3",
   "version": "3.9.7"
  }
 },
 "nbformat": 4,
 "nbformat_minor": 5
}
